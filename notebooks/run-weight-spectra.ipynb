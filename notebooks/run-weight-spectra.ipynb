{
 "cells": [],
 "metadata": {
  "kernelspec": {
   "display_name": "hcprediction",
   "language": "python",
   "name": "python3"
  },
  "language_info": {
   "name": "python",
   "version": "3.6.7"
  }
 },
 "nbformat": 4,
 "nbformat_minor": 5
}
