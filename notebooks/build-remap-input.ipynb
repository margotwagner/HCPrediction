{
 "cells": [
  {
   "cell_type": "markdown",
   "id": "aff70adc",
   "metadata": {},
   "source": [
    "Originally from /home/yuchen/Documents/HCPrediction/Analysis_remap.py."
   ]
  },
  {
   "cell_type": "code",
   "execution_count": 7,
   "id": "05d3cca7",
   "metadata": {},
   "outputs": [],
   "source": [
    "# This is a clean script for the remapping analysis\n",
    "import numpy as np\n",
    "import torch\n",
    "from scipy.stats import norm\n",
    "\n",
    "# from helper import *\n",
    "# from RNN_Class import *\n",
    "# from IO_plot import *\n",
    "import matplotlib\n",
    "\n",
    "matplotlib.use(\"Agg\")\n",
    "import matplotlib.pyplot as plt\n",
    "import glob\n",
    "import scipy.signal as signal\n",
    "\n",
    "font = {\"family\": \"sans-serif\", \"sans-serif\": [\"Helvetica\"], \"size\": 14}\n",
    "matplotlib.rc(\"font\", **font)\n",
    "plt.rcParams.update({\"text.usetex\": True})"
   ]
  },
  {
   "cell_type": "code",
   "execution_count": 10,
   "id": "502735e6",
   "metadata": {},
   "outputs": [
    {
     "name": "stdout",
     "output_type": "stream",
     "text": [
      "BUILDING INPUTS...\n",
      "saving X_mini and Target_mini for Env 1 to ../Elman_SGD/Remap_predloss/N100T100_relu_fixio/Ns100_SeqN100_1.pth.tar\n",
      "saving Env 1 input fig to ../Elman_SGD/Remap_predloss/N100T100_relu_fixio/Ns100_SeqN100_1.png\n"
     ]
    }
   ],
   "source": [
    "# Generate input/target ranging from (0,1) for sigmoid nonlinearity (i.e. removed the softmax constrain)\n",
    "print(\"BUILDING INPUTS...\")\n",
    "Path = \"../Elman_SGD/Remap_predloss/N100T100_relu_fixio/\"\n",
    "N, TotalSteps, T = 100, 2000, 100\n",
    "X = np.zeros((np.int64(N), np.int64(TotalSteps)))  # input N*T\n",
    "tmp = np.linspace(norm.ppf(0.05), norm.ppf(0.95), np.int64(TotalSteps / 2))\n",
    "BellShape = norm.pdf(tmp)  # Bellshape vector\n",
    "template = np.concatenate((BellShape, np.zeros(np.int64(TotalSteps / 2))))\n",
    "X = np.zeros((np.int64(N), np.int64(TotalSteps)))  # time-shifting matrix\n",
    "for i in np.arange(np.int64(N)):\n",
    "    X[i, :] = np.roll(template, np.int64(i * (TotalSteps / N)))\n",
    "\n",
    "Select_T = np.arange(0, TotalSteps, np.int64(TotalSteps / T), dtype=int)\n",
    "tmp = np.expand_dims((X[:, Select_T].T), axis=0)\n",
    "tmp = tmp / tmp.max()\n",
    "X_mini = torch.tensor(tmp.astype(np.single))\n",
    "print(f\"saving X_mini and Target_mini for Env 1 to {Path}Ns{N}_SeqN{T}_1.pth.tar\")\n",
    "torch.save(\n",
    "    {\"X_mini\": X_mini, \"Target_mini\": X_mini},\n",
    "    Path + \"Ns{}_SeqN{}_1.pth.tar\".format(N, T),\n",
    ")\n",
    "\n",
    "print(f\"saving Env 1 input fig to {Path}Ns{N}_SeqN{T}_1.png\")\n",
    "plt.figure()\n",
    "plt.imshow(X_mini[0, :, :].T.numpy())\n",
    "plt.colorbar()\n",
    "plt.title(\"input 1\")\n",
    "plt.tight_layout()\n",
    "plt.savefig(Path + \"Ns{}_SeqN{}_1.png\".format(N, T))\n",
    "plt.close()"
   ]
  },
  {
   "cell_type": "code",
   "execution_count": null,
   "id": "6df63307",
   "metadata": {},
   "outputs": [],
   "source": [
    "# Save a noisy version of env 1\n",
    "# Independent random gaussian noise N~(0,activity*noise_level)\n",
    "# noise_level = 0.05\n",
    "# noise_level = 0.1\n",
    "# noise_level = 0.2\n",
    "# noise_level = 0.3\n",
    "noise_level = 0.4\n",
    "# noise_level = 0.5\n",
    "torch.manual_seed(0)\n",
    "X_noisy = X_mini + torch.normal(mean=0, std=noise_level * X_mini)\n",
    "print(\n",
    "    f\"saving noisy version of X_mini and Target_mini for Env 1 to {Path}Ns{N}_SeqN{T}_1_{int(noise_level * 100)}per.pth.tar\"\n",
    ")\n",
    "torch.save(\n",
    "    {\"X_mini\": X_noisy, \"Target_mini\": X_noisy},\n",
    "    Path + \"Ns{}_SeqN{}_1_{}per.pth.tar\".format(N, T, int(noise_level * 100)),\n",
    ")\n",
    "\n",
    "plt.figure()\n",
    "plt.imshow(X_noisy[0, :, :].T.numpy())\n",
    "plt.colorbar()\n",
    "plt.title(\"input 1\")\n",
    "plt.tight_layout()\n",
    "plt.savefig(Path + \"Ns{}_SeqN{}_1_{}per.png\".format(N, T, int(noise_level * 100)))\n",
    "plt.close()"
   ]
  },
  {
   "cell_type": "code",
   "execution_count": null,
   "id": "93ca3ea9",
   "metadata": {},
   "outputs": [],
   "source": [
    "# Create randomly permuted environment 2\n",
    "np.random.seed(2)\n",
    "idx = np.random.permutation(np.arange(N))\n",
    "X_new = X_mini[:, :, idx]\n",
    "torch.save(\n",
    "    {\"X_mini\": X_new, \"Target_mini\": X_new}, Path + \"Ns{}_SeqN{}_2.pth.tar\".format(N, T)\n",
    ")\n",
    "\n",
    "plt.figure()\n",
    "plt.imshow(X_mini[0, :, :].T.numpy())\n",
    "plt.colorbar()\n",
    "plt.title(\"input 2\")\n",
    "plt.tight_layout()\n",
    "plt.savefig(Path + \"Ns{}_SeqN{}_2.png\".format(N, T))\n",
    "plt.close()"
   ]
  }
 ],
 "metadata": {
  "kernelspec": {
   "display_name": "hcprediction",
   "language": "python",
   "name": "python3"
  },
  "language_info": {
   "codemirror_mode": {
    "name": "ipython",
    "version": 3
   },
   "file_extension": ".py",
   "mimetype": "text/x-python",
   "name": "python",
   "nbconvert_exporter": "python",
   "pygments_lexer": "ipython3",
   "version": "3.6.7"
  }
 },
 "nbformat": 4,
 "nbformat_minor": 5
}
