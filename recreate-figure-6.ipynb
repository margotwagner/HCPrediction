{
 "cells": [
  {
   "cell_type": "code",
   "execution_count": 18,
   "id": "19b5c208",
   "metadata": {},
   "outputs": [],
   "source": [
    "import numpy as np\n",
    "from sklearn.decomposition import PCA"
   ]
  },
  {
   "cell_type": "markdown",
   "id": "e4756915",
   "metadata": {},
   "source": [
    "Walking through Figure6_InputPrep.py and Figure6.py. Eventually need to run MNIST part of train_predloss.sh"
   ]
  },
  {
   "cell_type": "markdown",
   "id": "b0937804",
   "metadata": {},
   "source": [
    "## Figure6_InputPrep.py"
   ]
  },
  {
   "cell_type": "code",
   "execution_count": null,
   "id": "46ff175a",
   "metadata": {},
   "outputs": [
    {
     "name": "stdout",
     "output_type": "stream",
     "text": [
      "(60000, 784)\n",
      "(60000,)\n"
     ]
    }
   ],
   "source": [
    "\"\"\" Get data \"\"\"\n",
    "Path = \"/cnl/home/yuchen/Documents/HCPrediction/Elman_SGD/predloss/\"\n",
    "images = np.load(Path + \"Rotated/MNIST_X_train.npy\")\n",
    "labels = np.load(Path + \"Rotated/MNIST_labels.npy\")\n",
    "\n",
    "print(images.shape)\n",
    "print(labels.shape)"
   ]
  },
  {
   "cell_type": "code",
   "execution_count": null,
   "id": "18dbadf6",
   "metadata": {},
   "outputs": [
    {
     "name": "stdout",
     "output_type": "stream",
     "text": [
      "0.8701351744489451\n"
     ]
    }
   ],
   "source": [
    "\"\"\" pca transform images. scale and center \"\"\"\n",
    "pca = PCA(n_components=68)\n",
    "pca.fit(images)\n",
    "print(np.sum(pca.explained_variance_ratio_))\n",
    "Im_de = pca.transform(images)  # just transform\n",
    "center = (np.max(Im_de) + np.min(Im_de)) / 2\n",
    "scale = (np.max(Im_de) - np.min(Im_de)) / 2\n",
    "Im_de_scale = (Im_de - center) / scale  # transform and norm\n",
    "Im_re = pca.inverse_transform(Im_de_scale * scale + center)  # to reconstruct og"
   ]
  },
  {
   "cell_type": "code",
   "execution_count": 21,
   "id": "fd9b1f67",
   "metadata": {},
   "outputs": [],
   "source": [
    "\"\"\" convert MNIST to PCA tensors \"\"\"\n",
    "im_num = []\n",
    "for i in np.arange(10):\n",
    "    im = Im_de_scale[labels == i, :]\n",
    "    im_num.append(im)\n",
    "\n",
    "N = Im_de.shape[1]\n",
    "SeqN = 100\n",
    "Ns = 5\n",
    "LoopN = round(SeqN / 10)\n",
    "tmp = np.zeros((Ns, SeqN, N))\n",
    "for i in np.arange(Ns):\n",
    "    for j in np.arange(10):\n",
    "        idx = np.arange(0, 10 * LoopN, 10) + j\n",
    "        im_pre = im_num[j][np.arange(LoopN) + i * LoopN]\n",
    "        tmp[i, idx, :] = im_pre"
   ]
  },
  {
   "cell_type": "code",
   "execution_count": null,
   "id": "080ac10d",
   "metadata": {},
   "outputs": [],
   "source": [
    "\"\"\" convert to torch type and save \"\"\"\n",
    "# X_mini = torch.tensor(tmp.astype(np.single))\n",
    "# torch.save({'X_mini':X_mini,'Target_mini': X_mini},\n",
    "# \tPath + 'MNIST_68PC_SeqN{}_Ns{}.pth.tar'.format(SeqN,Ns))"
   ]
  },
  {
   "cell_type": "markdown",
   "id": "d72e41d4",
   "metadata": {},
   "source": [
    "## Figure6.py"
   ]
  },
  {
   "cell_type": "code",
   "execution_count": null,
   "id": "7a9407e2",
   "metadata": {},
   "outputs": [],
   "source": []
  },
  {
   "cell_type": "code",
   "execution_count": null,
   "id": "3d8925d7",
   "metadata": {},
   "outputs": [],
   "source": []
  }
 ],
 "metadata": {
  "kernelspec": {
   "display_name": "hcprediction",
   "language": "python",
   "name": "python3"
  },
  "language_info": {
   "codemirror_mode": {
    "name": "ipython",
    "version": 3
   },
   "file_extension": ".py",
   "mimetype": "text/x-python",
   "name": "python",
   "nbconvert_exporter": "python",
   "pygments_lexer": "ipython3",
   "version": "3.6.7"
  }
 },
 "nbformat": 4,
 "nbformat_minor": 5
}
